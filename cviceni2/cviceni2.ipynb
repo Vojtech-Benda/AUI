{
 "cells": [
  {
   "cell_type": "code",
   "execution_count": 1,
   "metadata": {},
   "outputs": [],
   "source": [
    "import numpy as np\n",
    "import matplotlib.pyplot as plt\n",
    "import pandas"
   ]
  },
  {
   "cell_type": "code",
   "execution_count": 7,
   "metadata": {},
   "outputs": [],
   "source": [
    "fileName = 'GSR_hrac1.xlsx'\n",
    "dataHra2 = pandas.read_excel(fileName, sheet_name=\"Hra_2\")\n",
    "dataCopy = dataHra2"
   ]
  },
  {
   "cell_type": "code",
   "execution_count": 8,
   "metadata": {},
   "outputs": [],
   "source": [
    "# přepis stresové hodnoty 2 na 1\n",
    "dataCopy.loc[(dataCopy.Stres == 2), \"Stres\"] = 1\n",
    "impedance = list(dataCopy[\"Data\"].copy().to_numpy())\n",
    "stres = list(dataCopy[\"Stres\"].copy().to_numpy())"
   ]
  },
  {
   "cell_type": "code",
   "execution_count": 9,
   "metadata": {},
   "outputs": [],
   "source": [
    "def rozdelitStres(data, stav):\n",
    "    \"\"\"\n",
    "    Funkce rozdělí sloupec hodnot impedancí do skupin podle stresové stavu.\n",
    "    Výstupem je seznam skupin impedančních hodnot.\n",
    "    \"\"\"\n",
    "\n",
    "    rozdelanaImpedance = []\n",
    "    currentValues = []\n",
    "\n",
    "    for index in range(len(data)):\n",
    "        if index == len(data) - 1: # ukončení cyklu, pokud je index na posledním řádku\n",
    "            rozdelanaImpedance.append(currentValues)\n",
    "            break\n",
    "        \n",
    "        # zápis hodnot impedance v úseku se stejným stresovým stavem\n",
    "        if stav[index] == stav[index + 1]:\n",
    "            currentValues.append(data[index])\n",
    "        # zápis skupiny hodnot při změně stresového stavu\n",
    "        elif stav[index] != stav[index + 1]:\n",
    "            currentValues.append(data[index])\n",
    "            rozdelanaImpedance.append(currentValues)\n",
    "            currentValues = []\n",
    "\n",
    "    klidovyStav = rozdelanaImpedance[0::2]\n",
    "    stresovyStav = rozdelanaImpedance[1::2]\n",
    "\n",
    "    return klidovyStav, stresovyStav"
   ]
  },
  {
   "cell_type": "code",
   "execution_count": 17,
   "metadata": {},
   "outputs": [
    {
     "data": {
      "text/plain": [
       "(25, 24)"
      ]
     },
     "execution_count": 17,
     "metadata": {},
     "output_type": "execute_result"
    }
   ],
   "source": [
    "skupinaKlid, skupinaStres = rozdelitStres(impedance, stres)\n",
    "len(skupinaKlid), len(skupinaStres)"
   ]
  },
  {
   "cell_type": "code",
   "execution_count": 24,
   "metadata": {},
   "outputs": [],
   "source": [
    "def prumerSkupin(seznamSkupin):\n",
    "    \"\"\"\n",
    "    Funkce vypočítá průměrnou hodnotu impedance pro každou skupinu.\n",
    "    \"\"\"\n",
    "    \n",
    "    seznamPrumeru = []\n",
    "    for skupina in seznamSkupin:\n",
    "        seznamPrumeru.append(np.mean(skupina))\n",
    "    return seznamPrumeru\n",
    "\n",
    "def smerOdchylkaSkupin(seznamSkupin):\n",
    "    \"\"\"\n",
    "    Funkce vypočítá směrodatnou odchylku impedance pro každou skupinu.\n",
    "    \"\"\"\n",
    "\n",
    "    seznamSmerOdchylek = []\n",
    "    for skupina in seznamSkupin:\n",
    "        seznamSmerOdchylek.append(np.std(skupina))\n",
    "    return seznamSmerOdchylek"
   ]
  },
  {
   "cell_type": "code",
   "execution_count": 25,
   "metadata": {},
   "outputs": [],
   "source": [
    "klidPrumer = prumerSkupin(skupinaKlid)\n",
    "klidSmerOdchylka = smerOdchylkaSkupin(skupinaKlid)\n",
    "stresPrumer = prumerSkupin(skupinaStres)\n",
    "stresSmerOdchylka = smerOdchylkaSkupin(skupinaStres)"
   ]
  },
  {
   "cell_type": "code",
   "execution_count": null,
   "metadata": {},
   "outputs": [],
   "source": []
  }
 ],
 "metadata": {
  "kernelspec": {
   "display_name": ".venv",
   "language": "python",
   "name": "python3"
  },
  "language_info": {
   "codemirror_mode": {
    "name": "ipython",
    "version": 3
   },
   "file_extension": ".py",
   "mimetype": "text/x-python",
   "name": "python",
   "nbconvert_exporter": "python",
   "pygments_lexer": "ipython3",
   "version": "3.11.2"
  }
 },
 "nbformat": 4,
 "nbformat_minor": 2
}
