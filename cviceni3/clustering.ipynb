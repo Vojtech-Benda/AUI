{
 "cells": [
  {
   "cell_type": "code",
   "execution_count": 15,
   "metadata": {},
   "outputs": [],
   "source": [
    "import numpy as np\n",
    "import skimage as sk\n",
    "import scipy as sc\n",
    "import pyswarm"
   ]
  },
  {
   "cell_type": "code",
   "execution_count": 3,
   "metadata": {},
   "outputs": [],
   "source": [
    "calc = sk.io.imread(\"calc.jpg\")"
   ]
  },
  {
   "cell_type": "code",
   "execution_count": 16,
   "metadata": {},
   "outputs": [],
   "source": [
    "def clustering_cost2(m, X, clusters):\n",
    "    \"\"\"\n",
    "    Calculates the sum of within-cluster distances (WCD) for a given clustering configuration.\n",
    "\n",
    "    Args:\n",
    "        m (numpy.ndarray): A 3x6 matrix representing the cluster centers.\n",
    "        X (numpy.ndarray): A data matrix where each row represents a data point.\n",
    "\n",
    "    Returns:\n",
    "        float: The total within-cluster distance (WCD).\n",
    "    \"\"\"\n",
    "\n",
    "    # Ensure correct dimensions for m\n",
    "    if m.shape != (3, 6):\n",
    "        raise ValueError(\"Cluster center matrix (m) must have dimensions (3, 6).\")\n",
    "\n",
    "    # Reshape m into a cluster center matrix (4 clusters, 3 features)\n",
    "    cluster_centers = m.reshape(3, clusters).T  # Transpose for column-wise centers\n",
    "\n",
    "    # Calculate pairwise distances between data points and cluster centers\n",
    "    distances = np.linalg.norm(X - cluster_centers[:, None, :], axis=2)  # Efficient broadcasting\n",
    "\n",
    "    # Assign data points to closest clusters and find minimum distances\n",
    "    closest_distances, cluster_assignments = np.min(distances, axis=0), np.argmin(distances, axis=0)\n",
    "\n",
    "    # Calculate the sum of within-cluster distances (WCD)\n",
    "    wcd = np.sum(closest_distances)\n",
    "\n",
    "    return wcd"
   ]
  },
  {
   "cell_type": "code",
   "execution_count": 5,
   "metadata": {},
   "outputs": [],
   "source": [
    "rows, cols, channels = calc.shape\n",
    "rChannel = calc[..., 0]\n",
    "gChannel = calc[..., 1]\n",
    "bChannel = calc[..., 2]"
   ]
  },
  {
   "cell_type": "code",
   "execution_count": 6,
   "metadata": {},
   "outputs": [],
   "source": [
    "x1 = (rChannel - np.min(rChannel.ravel())) / (np.max(rChannel.ravel()) - np.min(rChannel.ravel()))\n",
    "x2 = (gChannel - np.min(gChannel.ravel())) / (np.max(gChannel.ravel()) - np.min(rChannel.ravel()))\n",
    "x3 = (bChannel - np.min(bChannel.ravel())) / (np.max(bChannel.ravel()) - np.min(rChannel.ravel()))\n",
    "x = np.array([x1.ravel(), x2.ravel(), x3.ravel()]).T\n",
    "clusters = 6"
   ]
  },
  {
   "cell_type": "code",
   "execution_count": 17,
   "metadata": {},
   "outputs": [],
   "source": [
    "varSize = np.array([clusters, x.shape[1]])\n",
    "nVar = np.prod(varSize)\n",
    "varMin = np.repeat(np.min(x, 0), clusters)\n",
    "varMax = np.repeat(np.max(x, 0), clusters)\n",
    "\n",
    "options = {'swarmsize': 100, 'maxiter': 20, 'omega': 0.5, 'c1': 1.5, 'c2': 2.0}\n",
    "result = pyswarm.pso(clustering_cost2, options, lb=varMin, ub=varMax)"
   ]
  },
  {
   "cell_type": "code",
   "execution_count": null,
   "metadata": {},
   "outputs": [],
   "source": []
  }
 ],
 "metadata": {
  "kernelspec": {
   "display_name": ".venv",
   "language": "python",
   "name": "python3"
  },
  "language_info": {
   "codemirror_mode": {
    "name": "ipython",
    "version": 3
   },
   "file_extension": ".py",
   "mimetype": "text/x-python",
   "name": "python",
   "nbconvert_exporter": "python",
   "pygments_lexer": "ipython3",
   "version": "3.11.2"
  }
 },
 "nbformat": 4,
 "nbformat_minor": 2
}
