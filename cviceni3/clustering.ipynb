{
 "cells": [
  {
   "cell_type": "code",
   "execution_count": 1,
   "metadata": {},
   "outputs": [],
   "source": [
    "import numpy as np\n",
    "import skimage as sk\n",
    "import pyswarms as ps"
   ]
  },
  {
   "cell_type": "code",
   "execution_count": 2,
   "metadata": {},
   "outputs": [],
   "source": [
    "calc = sk.io.imread(\"calc.jpg\")"
   ]
  },
  {
   "cell_type": "code",
   "execution_count": 3,
   "metadata": {},
   "outputs": [],
   "source": [
    "def clustering_cost(m, X):\n",
    "    # Reshape m into a cluster center matrix (4 clusters, 3 features)\n",
    "    cluster_centers = m.reshape(3, -1).T  # Transpose for column-wise centers\n",
    "\n",
    "    # Calculate pairwise distances between data points and cluster centers\n",
    "    distances = np.linalg.norm(X - cluster_centers[:, None, :], axis=2)  # Efficient broadcasting\n",
    "\n",
    "    # Assign data points to closest clusters and find minimum distances\n",
    "    closest_distances = np.min(distances, axis=0)\n",
    "\n",
    "    # return the sum of within-cluster distances (WCD)\n",
    "\n",
    "    return np.sum(closest_distances)"
   ]
  },
  {
   "cell_type": "code",
   "execution_count": 4,
   "metadata": {},
   "outputs": [],
   "source": [
    "rows, cols, channels = calc.shape\n",
    "rChannel = calc[..., 0]\n",
    "gChannel = calc[..., 1]\n",
    "bChannel = calc[..., 2]"
   ]
  },
  {
   "cell_type": "code",
   "execution_count": 5,
   "metadata": {},
   "outputs": [],
   "source": [
    "x1 = (rChannel - np.min(rChannel.ravel())) / (np.max(rChannel.ravel()) - np.min(rChannel.ravel()))\n",
    "x2 = (gChannel - np.min(gChannel.ravel())) / (np.max(gChannel.ravel()) - np.min(rChannel.ravel()))\n",
    "x3 = (bChannel - np.min(bChannel.ravel())) / (np.max(bChannel.ravel()) - np.min(rChannel.ravel()))\n",
    "x = np.array([x1.ravel(), x2.ravel(), x3.ravel()]).T\n",
    "clusters = 6"
   ]
  },
  {
   "cell_type": "code",
   "execution_count": 6,
   "metadata": {},
   "outputs": [],
   "source": [
    "varSize = np.array([clusters, x.shape[1]])\n",
    "nVar = np.prod(varSize)\n",
    "varMin = np.repeat(np.min(x, axis=0), clusters)\n",
    "varMax = np.repeat(np.max(x, axis=0), clusters)\n",
    "\n",
    "clusteringCost = lambda m: clustering_cost(m, x)\n",
    "\n",
    "options = {\"c1\": 0.5, \"c2\": 0.3, \"w\": 0.9}"
   ]
  },
  {
   "cell_type": "code",
   "execution_count": null,
   "metadata": {},
   "outputs": [],
   "source": [
    "optimizer = ps.single.GlobalBestPSO(n_particles=100, dimensions=nVar, options=options, \n",
    "                                    bounds=(varMin, varMax))\n",
    "cost, pos = optimizer.optimize(clusteringCost, iters=10)"
   ]
  },
  {
   "cell_type": "code",
   "execution_count": null,
   "metadata": {},
   "outputs": [],
   "source": []
  }
 ],
 "metadata": {
  "kernelspec": {
   "display_name": ".venv",
   "language": "python",
   "name": "python3"
  },
  "language_info": {
   "codemirror_mode": {
    "name": "ipython",
    "version": 3
   },
   "file_extension": ".py",
   "mimetype": "text/x-python",
   "name": "python",
   "nbconvert_exporter": "python",
   "pygments_lexer": "ipython3",
   "version": "3.11.2"
  }
 },
 "nbformat": 4,
 "nbformat_minor": 2
}
