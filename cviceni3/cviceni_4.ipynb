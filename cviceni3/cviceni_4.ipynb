{
 "cells": [
  {
   "cell_type": "code",
   "execution_count": 2,
   "metadata": {},
   "outputs": [],
   "source": [
    "import numpy as np\n",
    "import skimage as sk\n",
    "# import cv2\n",
    "import pandas as pd\n",
    "from scipy.spatial import distance_matrix\n",
    "from scipy.cluster.hierarchy import dendrogram\n",
    "from sklearn.cluster import AgglomerativeClustering, DBSCAN, KMeans\n",
    "import matplotlib.pyplot as plt\n",
    "import seaborn as sns\n",
    "from pyswarm import pso"
   ]
  },
  {
   "cell_type": "code",
   "execution_count": 4,
   "metadata": {},
   "outputs": [],
   "source": [
    "## problem definition\n",
    "# img = sk.io.imread('kalcifikace.jpg') # buď / nebo \\\\\n",
    "# Split the image into its R, G, and B channels\n",
    "# r_img, g_img, b_img =  cv2.split(img)"
   ]
  },
  {
   "cell_type": "code",
   "execution_count": 6,
   "metadata": {},
   "outputs": [],
   "source": [
    "def clustering_cost2(m, X):\n",
    "    # Calculate Distance Matrix\n",
    "    g = m.reshape(3, -1).T\n",
    "    d = np.linalg.norm(X[:, np.newaxis, :] - g, axis=2)\n",
    "\n",
    "    # Assign Clusters and Find Closest Distances\n",
    "    dmin = np.min(d, axis=1)\n",
    "\n",
    "    # Sum of Within-Cluster Distance\n",
    "    WCD = np.sum(dmin)\n",
    "\n",
    "    return WCD\n",
    "\n",
    "# Load the image\n",
    "img = sk.io.imread('kalcifikace.jpg') \n",
    "\n",
    "# Split the image into its RGB channels and normalize them\n",
    "Rplane = img[:,:,0]\n",
    "Gplane = img[:,:,1]\n",
    "Bplane = img[:,:,2]\n",
    "X1 = (Rplane - np.min(Rplane)) / (np.max(Rplane) - np.min(Rplane))\n",
    "X2 = (Gplane - np.min(Gplane)) / (np.max(Gplane) - np.min(Gplane))\n",
    "X3 = (Bplane - np.min(Bplane)) / (np.max(Bplane) - np.min(Bplane))\n",
    "\n",
    "# Stack the normalized channels as features\n",
    "X = np.stack((X1.flatten(), X2.flatten(), X3.flatten()), axis=1)\n",
    "\n",
    "# Number of clusters\n",
    "k = 6"
   ]
  },
  {
   "cell_type": "code",
   "execution_count": 7,
   "metadata": {},
   "outputs": [],
   "source": [
    "# Problem definition\n",
    "CostFunction = lambda m: clustering_cost2(m, X)\n",
    "\n",
    "VarSize = [k, X.shape[1]]  # Decision Variables Matrix Size = [6, 3]\n",
    "nVar = np.prod(VarSize)     # Number of Decision Variables = 18\n",
    "\n",
    "VarMin = np.tile(np.min(X, axis=0), (k, 1))  # Lower Bound of Variables\n",
    "VarMax = np.tile(np.max(X, axis=0), (k, 1))  # Upper Bound of Variables"
   ]
  },
  {
   "cell_type": "code",
   "execution_count": null,
   "metadata": {},
   "outputs": [],
   "source": [
    "# Run PSO\n",
    "centers, err_ga = pso(CostFunction, VarMin.flatten(), VarMax.flatten(),\n",
    "                      swarmsize=10, maxiter=5, debug=True)"
   ]
  },
  {
   "cell_type": "code",
   "execution_count": null,
   "metadata": {},
   "outputs": [],
   "source": [
    "# Reshape the cluster centers to match the original shape\n",
    "centers = centers.reshape(k, -1)\n",
    "\n",
    "# Perform k-means clustering using the obtained cluster centers\n",
    "kmeans = KMeans(n_clusters=k, init=centers, n_init=1, random_state=0)\n",
    "ind = kmeans.fit_predict(X)\n",
    "\n",
    "# Reshape the assigned labels back to the original image shape\n",
    "outimg = ind.reshape(img.shape[:2])\n",
    "\n",
    "# Display the result\n",
    "sk.io.imshow(outimg, cmap = \"viridis\")"
   ]
  },
  {
   "cell_type": "code",
   "execution_count": 5,
   "metadata": {},
   "outputs": [],
   "source": [
    "row, cols, channels = img.shape\n",
    "X1 = (r_img-np.min(r_img[:]))/np.max(r_img[:])-np.min(r_img[:])\n",
    "X2 = (g_img-np.min(g_img[:]))/np.max(g_img[:])-np.min(g_img[:])\n",
    "X3 = (b_img-np.min(b_img[:]))/np.max(b_img[:])-np.min(b_img[:])\n",
    "\n",
    "X = np.column_stack((X1.ravel(), X2.ravel(), X3.ravel()))\n",
    "k = 6 # number of clusters"
   ]
  },
  {
   "cell_type": "code",
   "execution_count": null,
   "metadata": {},
   "outputs": [],
   "source": [
    "VarSize = [k] + list(X.shape[1:]) # Decision Variables Matrix Size = [k 3]\n",
    "nVar = np.prod(VarSize) # Number of Decision Variables = k*3"
   ]
  },
  {
   "cell_type": "code",
   "execution_count": 5,
   "metadata": {},
   "outputs": [
    {
     "data": {
      "text/plain": [
       "0"
      ]
     },
     "execution_count": 5,
     "metadata": {},
     "output_type": "execute_result"
    }
   ],
   "source": [
    "def clustering_cost2(m, k, X):\n",
    "    # Reshape cluster centers matrix\n",
    "    g = m.reshape(3, k).T  # Reshape m to (6, 3) matrix\n",
    "\n",
    "    # Calculate distance matrix\n",
    "    d = np.linalg.norm(X[:, np.newaxis, :] - g, axis=2)  # Pairwise distances between X and cluster centers\n",
    "\n",
    "    # Assign clusters and find closest distances\n",
    "    ind = np.argmin(d, axis=1)  # Index of the closest cluster for each data point\n",
    "    dmin = np.min(d, axis=1)  # Minimum distance for each data point\n",
    "\n",
    "    # Sum of Within-Cluster Distance\n",
    "    WCD = np.sum(dmin)\n",
    "\n",
    "    return WCD"
   ]
  },
  {
   "cell_type": "code",
   "execution_count": 6,
   "metadata": {},
   "outputs": [
    {
     "name": "stdout",
     "output_type": "stream",
     "text": [
      "Cost: 0\n"
     ]
    }
   ],
   "source": [
    "m = np.array([[1, 2], [3, 4], [5, 6]])\n",
    "XX = np.array([[7, 8], [9, 10], [11, 12], [13, 14]])\n",
    "cost = cost_function(m, XX)\n",
    "print(\"Cost:\", cost)\n"
   ]
  }
 ],
 "metadata": {
  "kernelspec": {
   "display_name": ".venv",
   "language": "python",
   "name": "python3"
  },
  "language_info": {
   "codemirror_mode": {
    "name": "ipython",
    "version": 3
   },
   "file_extension": ".py",
   "mimetype": "text/x-python",
   "name": "python",
   "nbconvert_exporter": "python",
   "pygments_lexer": "ipython3",
   "version": "3.11.2"
  }
 },
 "nbformat": 4,
 "nbformat_minor": 2
}
